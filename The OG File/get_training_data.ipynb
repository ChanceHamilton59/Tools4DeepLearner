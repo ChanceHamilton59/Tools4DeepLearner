{
 "cells": [
  {
   "cell_type": "code",
   "execution_count": 30,
   "metadata": {},
   "outputs": [],
   "source": [
    "from __future__ import division, print_function, absolute_import\n",
    "from scipy.io import loadmat \n",
    "import os\n",
    "import tensorflow as tf\n",
    "import numpy as np\n",
    "import random\n",
    "import matplotlib.pyplot as plt\n",
    "import pickle\n",
    "from matplotlib.backends.backend_pdf import PdfPages\n",
    "from hyperdash import monitor_cell\n",
    "from hyperdash import Experiment"
   ]
  },
  {
   "cell_type": "code",
   "execution_count": 85,
   "metadata": {},
   "outputs": [],
   "source": [
    "def get_training_data(trainDir, numPat, size):\n",
    "    ###############################################################################\n",
    "    # This section loads the training dataset\n",
    "    ###############################################################################\n",
    "    bigImage  = loadmat(trainDir)['IMAGES'] \n",
    "    buffer = len(bigImage[0]) - size -1\n",
    "    for gfunk in range(numPat):\n",
    "        x = random.randint(0,buffer)\n",
    "        y = random.randint(0,buffer)\n",
    "        z = random.randint(0,9)\n",
    "        patch = bigImage[x:x+size, y:y+size, z]\n",
    "        #print(patch.shape)\n",
    "        if (gfunk == 0):\n",
    "            tdata = patch\n",
    "        else :\n",
    "            tdata = np.concatenate((tdata,patch), axis = 1)\n",
    "    \n",
    "    print(tdata.shape)\n",
    "    return tdata"
   ]
  },
  {
   "cell_type": "code",
   "execution_count": 88,
   "metadata": {},
   "outputs": [
    {
     "name": "stdout",
     "output_type": "stream",
     "text": [
      "(100, 50000)\n"
     ]
    }
   ],
   "source": [
    "tdata = get_training_data('RawData/IMAGES.mat',500,100)"
   ]
  },
  {
   "cell_type": "code",
   "execution_count": null,
   "metadata": {},
   "outputs": [],
   "source": []
  }
 ],
 "metadata": {
  "kernelspec": {
   "display_name": "Python 3",
   "language": "python",
   "name": "python3"
  },
  "language_info": {
   "codemirror_mode": {
    "name": "ipython",
    "version": 3
   },
   "file_extension": ".py",
   "mimetype": "text/x-python",
   "name": "python",
   "nbconvert_exporter": "python",
   "pygments_lexer": "ipython3",
   "version": "3.6.6"
  }
 },
 "nbformat": 4,
 "nbformat_minor": 2
}
